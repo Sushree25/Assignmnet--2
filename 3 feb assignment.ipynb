{
 "cells": [
  {
   "cell_type": "code",
   "execution_count": 1,
   "id": "28d02ed3-3bdc-4da7-9bed-a6f789fffc76",
   "metadata": {},
   "outputs": [],
   "source": [
    "#Which keyword is used to create a function? Create a function to return a list of odd numbers in the\n",
    "#range of 1 to 25."
   ]
  },
  {
   "cell_type": "code",
   "execution_count": 3,
   "id": "45cb22e3-7d0e-4037-9a8f-10f9d4a5b929",
   "metadata": {},
   "outputs": [],
   "source": [
    "#In Python, the keyword used to create a function is \"def\". "
   ]
  },
  {
   "cell_type": "code",
   "execution_count": 4,
   "id": "ee85b96a-43e1-4416-b934-db341a1f1fca",
   "metadata": {},
   "outputs": [],
   "source": [
    "def odd_numbers():\n",
    "    result = []\n",
    "    for i in range(1, 26):\n",
    "        if i % 2 == 1:\n",
    "            result.append(i)\n",
    "    return result\n"
   ]
  },
  {
   "cell_type": "code",
   "execution_count": 6,
   "id": "c0b6d67b-2252-4c2d-888b-75385a9c8566",
   "metadata": {},
   "outputs": [
    {
     "data": {
      "text/plain": [
       "[1, 3, 5, 7, 9, 11, 13, 15, 17, 19, 21, 23, 25]"
      ]
     },
     "execution_count": 6,
     "metadata": {},
     "output_type": "execute_result"
    }
   ],
   "source": [
    "odd_numbers ()"
   ]
  },
  {
   "cell_type": "code",
   "execution_count": 7,
   "id": "911b0706-715f-41e7-9233-bfb89ef468f7",
   "metadata": {},
   "outputs": [],
   "source": [
    "#Why *args and **kwargs is used in some functions? Create a function each for *args and **kwargs\n",
    "#to demonstrate their use."
   ]
  },
  {
   "cell_type": "code",
   "execution_count": 8,
   "id": "9afd56fb-eb3f-4ae2-a774-d4d14a986628",
   "metadata": {},
   "outputs": [],
   "source": [
    "#*args and **kwargs are special syntax in Python for passing a variable number of arguments to a function."
   ]
  },
  {
   "cell_type": "code",
   "execution_count": 9,
   "id": "e49810b8-6a00-4c87-8432-3953f38cf678",
   "metadata": {},
   "outputs": [],
   "source": [
    "def sum_all(*args):\n",
    "    total = sum(args)\n",
    "    return total\n"
   ]
  },
  {
   "cell_type": "code",
   "execution_count": 11,
   "id": "26edf2b7-e0d7-4872-901d-bfd55466c780",
   "metadata": {},
   "outputs": [
    {
     "name": "stdout",
     "output_type": "stream",
     "text": [
      "15\n"
     ]
    }
   ],
   "source": [
    "result = sum_all(1,2,3,4,5)\n",
    "print (result)"
   ]
  },
  {
   "cell_type": "code",
   "execution_count": 12,
   "id": "90befe1a-f8d6-4288-a4d3-1d4bc9205aec",
   "metadata": {},
   "outputs": [],
   "source": [
    "def print_dict(**kwargs):\n",
    "    for key, value in kwargs.items():\n",
    "        print(key, \":\", value)\n"
   ]
  },
  {
   "cell_type": "code",
   "execution_count": 14,
   "id": "47912189-f2e2-4009-9063-e6d50ea76daa",
   "metadata": {},
   "outputs": [
    {
     "name": "stdout",
     "output_type": "stream",
     "text": [
      "name : niki\n",
      "age : 24\n",
      "city : bbsr\n"
     ]
    }
   ],
   "source": [
    "print_dict(name=\"niki\", age=24, city=\"bbsr\")\n",
    "\n"
   ]
  },
  {
   "cell_type": "code",
   "execution_count": null,
   "id": "78dd8d87-9e37-470c-ba49-a9d80b2f2481",
   "metadata": {},
   "outputs": [],
   "source": [
    "#What is an iterator in python? Name the method used to initialise the iterator object and the method\n",
    "#used for iteration. Use these methods to print the first five elements of the given list [2, 4, 6, 8, 10, 12, 14,\n",
    "#16, 18, 20]."
   ]
  },
  {
   "cell_type": "code",
   "execution_count": 15,
   "id": "dc7abec2-8027-48e6-88be-9e94e25e1ef8",
   "metadata": {},
   "outputs": [
    {
     "data": {
      "text/plain": [
       "'In Python, an iterator is an object that can be iterated upon, meaning that you can traverse through all the values. It provides a way to access the elements of a container (e.g. list, tuple, dictionary, etc.) one at a time, without having to access the entire container at once.\\n\\nIn Python, the iter() method is used to initialize an iterator object, and the next() method is used to iterate over the elements of the iterator.'"
      ]
     },
     "execution_count": 15,
     "metadata": {},
     "output_type": "execute_result"
    }
   ],
   "source": [
    "\"\"\"In Python, an iterator is an object that can be iterated upon, meaning that you can traverse through all the values. It provides a way to access the elements of a container (e.g. list, tuple, dictionary, etc.) one at a time, without having to access the entire container at once.\n",
    "\n",
    "In Python, the iter() method is used to initialize an iterator object, and the next() method is used to iterate over the elements of the iterator.\"\"\""
   ]
  },
  {
   "cell_type": "code",
   "execution_count": 16,
   "id": "809c61bb-0cef-4dfd-8023-d3fe76d023ab",
   "metadata": {},
   "outputs": [
    {
     "name": "stdout",
     "output_type": "stream",
     "text": [
      "2\n",
      "4\n",
      "6\n",
      "8\n",
      "10\n"
     ]
    }
   ],
   "source": [
    "my_list = [2, 4, 6, 8, 10, 12, 14, 16, 18, 20]\n",
    "my_iterator = iter(my_list)\n",
    "\n",
    "for i in range(5):\n",
    "    print(next(my_iterator))\n"
   ]
  },
  {
   "cell_type": "code",
   "execution_count": 17,
   "id": "3b607c9a-2f2a-4723-89d3-38b565f310df",
   "metadata": {},
   "outputs": [],
   "source": [
    "#What is a generator function in python? Why yield keyword is used? Give an example of a generator\n",
    "#function."
   ]
  },
  {
   "cell_type": "code",
   "execution_count": 18,
   "id": "5250a9aa-615f-45bc-83da-51022469bcf2",
   "metadata": {},
   "outputs": [
    {
     "data": {
      "text/plain": [
       "'In Python, a generator function is a special kind of function that returns an iterator. It allows you to generate a sequence of values on-the-fly, without having to create and store all the values in memory at once.'"
      ]
     },
     "execution_count": 18,
     "metadata": {},
     "output_type": "execute_result"
    }
   ],
   "source": [
    "\"\"\"In Python, a generator function is a special kind of function that returns an iterator. It allows you to generate a sequence of values on-the-fly, without having to create and store all the values in memory at once.\"\"\""
   ]
  },
  {
   "cell_type": "code",
   "execution_count": 19,
   "id": "92cabc19-ae14-4dea-a521-4d64cdfc37ef",
   "metadata": {},
   "outputs": [
    {
     "data": {
      "text/plain": [
       "'The yield keyword is used in a generator function to specify the values that should be generated. When the yield keyword is encountered, the current state of the generator function is saved, and the yielded value is returned to the caller.'"
      ]
     },
     "execution_count": 19,
     "metadata": {},
     "output_type": "execute_result"
    }
   ],
   "source": [
    "\"\"\"The yield keyword is used in a generator function to specify the values that should be generated. When the yield keyword is encountered, the current state of the generator function is saved, and the yielded value is returned to the caller.\"\"\""
   ]
  },
  {
   "cell_type": "code",
   "execution_count": 20,
   "id": "a131404e-d7aa-4017-a14a-1af2b595e03f",
   "metadata": {},
   "outputs": [],
   "source": [
    "def generate_even_numbers(n):\n",
    "    for i in range(n):\n",
    "        if i % 2 == 0:\n",
    "            yield i\n"
   ]
  },
  {
   "cell_type": "code",
   "execution_count": 21,
   "id": "dfc89a62-77eb-4ed3-a247-9ee722e49415",
   "metadata": {},
   "outputs": [
    {
     "name": "stdout",
     "output_type": "stream",
     "text": [
      "0\n",
      "2\n",
      "4\n",
      "6\n",
      "8\n"
     ]
    }
   ],
   "source": [
    "even_numbers = generate_even_numbers(10)\n",
    "\n",
    "for number in even_numbers:\n",
    "    print(number)\n"
   ]
  },
  {
   "cell_type": "code",
   "execution_count": null,
   "id": "b296ae5d-778c-4716-ac2f-c3540d81b0a2",
   "metadata": {},
   "outputs": [],
   "source": [
    "#Create a generator function for prime numbers less than 1000. Use the next() method to print the\n",
    "#first 20 prime numbers."
   ]
  },
  {
   "cell_type": "code",
   "execution_count": 22,
   "id": "c29b7521-2f7c-4f2b-be6b-1efb7f3db8ad",
   "metadata": {},
   "outputs": [],
   "source": [
    "def generate_primes():\n",
    "    yield 2\n",
    "    primes = [2]\n",
    "    n = 3\n",
    "    while n < 1000:\n",
    "        is_prime = True\n",
    "        for p in primes:\n",
    "            if n % p == 0:\n",
    "                is_prime = False\n",
    "                break\n",
    "        if is_prime:\n",
    "            primes.append(n)\n",
    "            yield n\n",
    "        n += 2\n"
   ]
  },
  {
   "cell_type": "code",
   "execution_count": 23,
   "id": "3530cfe8-a017-4416-9094-8184044374f6",
   "metadata": {},
   "outputs": [
    {
     "name": "stdout",
     "output_type": "stream",
     "text": [
      "2\n",
      "3\n",
      "5\n",
      "7\n",
      "11\n",
      "13\n",
      "17\n",
      "19\n",
      "23\n",
      "29\n",
      "31\n",
      "37\n",
      "41\n",
      "43\n",
      "47\n",
      "53\n",
      "59\n",
      "61\n",
      "67\n",
      "71\n"
     ]
    }
   ],
   "source": [
    "prime_generator = generate_primes()\n",
    "\n",
    "for i in range(20):\n",
    "    print(next(prime_generator))\n"
   ]
  },
  {
   "cell_type": "code",
   "execution_count": 24,
   "id": "ee5423f1-6b3e-4b73-9920-c4f2a44d9c78",
   "metadata": {},
   "outputs": [],
   "source": [
    "#Write a python program to print the first 10 Fibonacci numbers using a while loop."
   ]
  },
  {
   "cell_type": "code",
   "execution_count": 25,
   "id": "9b68d1b2-9013-45df-865a-049f75b16a9a",
   "metadata": {},
   "outputs": [
    {
     "name": "stdout",
     "output_type": "stream",
     "text": [
      "0\n",
      "1\n",
      "1\n",
      "2\n",
      "3\n",
      "5\n",
      "8\n",
      "13\n",
      "21\n",
      "34\n"
     ]
    }
   ],
   "source": [
    "# initialize the first two Fibonacci numbers\n",
    "a, b = 0, 1\n",
    "\n",
    "# loop to generate the next 10 Fibonacci numbers\n",
    "i = 0\n",
    "while i < 10:\n",
    "    # print the current Fibonacci number\n",
    "    print(a)\n",
    "    \n",
    "    # generate the next Fibonacci number\n",
    "    a, b = b, a + b\n",
    "    \n",
    "    # increment the counter\n",
    "    i += 1\n"
   ]
  },
  {
   "cell_type": "code",
   "execution_count": 26,
   "id": "94f809b8-1d40-4cdb-82e2-5a3a4865fa23",
   "metadata": {},
   "outputs": [],
   "source": [
    "#Write a List Comprehension to iterate through the given string: ‘pwskills’.\n",
    "#Expected output: ['p', 'w', 's', 'k', 'i', 'l', 'l', 's']"
   ]
  },
  {
   "cell_type": "code",
   "execution_count": 27,
   "id": "3d491fc0-9218-422a-8750-e0e7723c2ff8",
   "metadata": {},
   "outputs": [
    {
     "name": "stdout",
     "output_type": "stream",
     "text": [
      "['p', 'w', 's', 'k', 'i', 'l', 'l', 's']\n"
     ]
    }
   ],
   "source": [
    "string = 'pwskills'\n",
    "output = [char for char in string if char in 'pwskills']\n",
    "print(output)\n"
   ]
  },
  {
   "cell_type": "code",
   "execution_count": 28,
   "id": "f0a9763b-2b3c-4332-83fe-0db37cb1e6b7",
   "metadata": {},
   "outputs": [],
   "source": [
    "#Write a python program to check whether a given number is Palindrome or not using a while loop."
   ]
  },
  {
   "cell_type": "code",
   "execution_count": 29,
   "id": "719c0650-d881-4b84-89d5-36613dcc2a8e",
   "metadata": {},
   "outputs": [
    {
     "name": "stdin",
     "output_type": "stream",
     "text": [
      "Enter a number:  121\n"
     ]
    },
    {
     "name": "stdout",
     "output_type": "stream",
     "text": [
      "121 is a palindrome\n"
     ]
    }
   ],
   "source": [
    "# take user input for the number to check\n",
    "number = int(input(\"Enter a number: \"))\n",
    "\n",
    "# initialize variables for the number and its reverse\n",
    "num = number\n",
    "reverse = 0\n",
    "\n",
    "# loop to reverse the number\n",
    "while num > 0:\n",
    "    # get the last digit of the number\n",
    "    digit = num % 10\n",
    "    \n",
    "    # add the digit to the reverse number\n",
    "    reverse = (reverse * 10) + digit\n",
    "    \n",
    "    # remove the last digit from the number\n",
    "    num = num // 10\n",
    "\n",
    "# check if the number is a palindrome\n",
    "if number == reverse:\n",
    "    print(number, \"is a palindrome\")\n",
    "else:\n",
    "    print(number, \"is not a palindrome\")\n"
   ]
  },
  {
   "cell_type": "code",
   "execution_count": 30,
   "id": "ecda6ad9-31a4-4071-b9cb-3037ff3dd653",
   "metadata": {},
   "outputs": [],
   "source": [
    "#Write a code to print odd numbers from 1 to 100 using list comprehension.\n",
    "#Note: Use a list comprehension to create a list from 1 to 100 and use another List comprehension to filter\n",
    "#out odd numbers."
   ]
  },
  {
   "cell_type": "code",
   "execution_count": null,
   "id": "e6a9da3d-9569-4ec1-8ec3-fdd99600617b",
   "metadata": {},
   "outputs": [],
   "source": []
  }
 ],
 "metadata": {
  "kernelspec": {
   "display_name": "Python 3 (ipykernel)",
   "language": "python",
   "name": "python3"
  },
  "language_info": {
   "codemirror_mode": {
    "name": "ipython",
    "version": 3
   },
   "file_extension": ".py",
   "mimetype": "text/x-python",
   "name": "python",
   "nbconvert_exporter": "python",
   "pygments_lexer": "ipython3",
   "version": "3.10.8"
  }
 },
 "nbformat": 4,
 "nbformat_minor": 5
}
